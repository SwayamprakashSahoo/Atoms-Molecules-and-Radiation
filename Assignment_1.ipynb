{
 "cells": [
  {
   "cell_type": "code",
   "execution_count": 24,
   "metadata": {},
   "outputs": [
    {
     "name": "stdout",
     "output_type": "stream",
     "text": [
      "Enter the diagonal value:10\n",
      "Enter the beta value:2\n",
      "Enter the order of the matrix:2000\n",
      "[[10.  2.  0. ...  0.  0.  0.]\n",
      " [ 2. 10.  2. ...  0.  0.  0.]\n",
      " [ 0.  2. 10. ...  0.  0.  0.]\n",
      " ...\n",
      " [ 0.  0.  0. ... 10.  2.  0.]\n",
      " [ 0.  0.  0. ...  2. 10.  2.]\n",
      " [ 0.  0.  0. ...  0.  2. 10.]]\n",
      "[13.98342737 13.98399354 13.98454988 ...  6.52496066  6.25135386\n",
      "  6.13346684]\n",
      "0.00399999507012992\n"
     ]
    },
    {
     "data": {
      "image/png": "[encoded data removed]",
      "text/plain": [
       "<Figure size 432x288 with 1 Axes>"
      ]
     },
     "metadata": {
      "needs_background": "light"
     },
     "output_type": "display_data"
    }
   ],
   "source": [
    "import numpy as np\n",
    "import matplotlib.pyplot as plt\n",
    "import math\n",
    "#Creating the matrix\n",
    "A = int(input(\"Enter the diagonal value:\"))\n",
    "B = int(input(\"Enter the beta value:\"))\n",
    "N = int(input(\"Enter the order of the matrix:\")) \n",
    "matrix = np.zeros((N,N))\n",
    "\n",
    "for i in range (N):\n",
    "    for j in range (N):\n",
    "        if i == j:\n",
    "            matrix[i][j] = A\n",
    "        elif j == i+1 :\n",
    "            matrix[i][j] = B\n",
    "        elif j == i-1 :\n",
    "            matrix[i][j] = B\n",
    "            \n",
    "#printing the matrix\n",
    "print(matrix)\n",
    "\n",
    "#finding eigenvalues\n",
    "w,v = np.linalg.eig(matrix)\n",
    "print(w)\n",
    "q = w.sort() #Arranged in ascending order\n",
    "\n",
    "wid=math.sqrt(N)\n",
    "div=int(wid)\n",
    "\n",
    "\n",
    "plt.hist(w,bins= div,color ='r')\n",
    "\n",
    "d = w[N-1] - w[0]\n",
    "step = d/N\n",
    "print(step)\n",
    "xlegend = plt.xlabel('Eigen value')\n",
    "ylegend = plt.ylabel('Density of eigen states')\n",
    "\n",
    "plt.title(f'For dimension N={N}')\n",
    "plt.show()"
   ]
  },
  {
   "cell_type": "code",
   "execution_count": 32,
   "metadata": {},
   "outputs": [
    {
     "name": "stdout",
     "output_type": "stream",
     "text": [
      "Enter the E1 value:10\n",
      "Enter the E2 value:8\n",
      "Enter the beta value:5\n",
      "Enter the order of the matrix:2500\n",
      "[[ 8.  5.  0. ...  0.  0.  0.]\n",
      " [ 5. 10.  5. ...  0.  0.  0.]\n",
      " [ 0.  5.  8. ...  0.  0.  0.]\n",
      " ...\n",
      " [ 0.  0.  0. ... 10.  5.  0.]\n",
      " [ 0.  0.  0. ...  5.  8.  5.]\n",
      " [ 0.  0.  0. ...  0.  5. 10.]]\n",
      "[18.97911395 18.98059406 18.98205858 ... -0.63041883 -0.96671225\n",
      " -0.91953431]\n",
      "0.008039894216723702\n"
     ]
    },
    {
     "data": {
      "image/png": "[encoded data removed]",
      "text/plain": [
       "<Figure size 432x288 with 1 Axes>"
      ]
     },
     "metadata": {
      "needs_background": "light"
     },
     "output_type": "display_data"
    }
   ],
   "source": [
    "import numpy as np\n",
    "import matplotlib.pyplot as plt\n",
    "import math\n",
    "#Creating the matrix\n",
    "A1 = int(input(\"Enter the E1 value:\"))\n",
    "A2 = int(input(\"Enter the E2 value:\"))\n",
    "B = int(input(\"Enter the beta value:\"))\n",
    "N = int(input(\"Enter the order of the matrix:\")) \n",
    "\n",
    "matrix = np.zeros((N,N))\n",
    "for i in range (N):\n",
    "    for j in range (N):\n",
    "        if i == j:\n",
    "            if i % 2 == 0:\n",
    "                matrix[i][j] = A2\n",
    "            else:\n",
    "                matrix[i][j] = A1\n",
    "        elif j == i+1 :\n",
    "            matrix[i][j] = B\n",
    "        elif j == i-1 :\n",
    "            matrix[i][j] = B\n",
    "#printing the matrix\n",
    "print(matrix)\n",
    "\n",
    "#finding eigen values\n",
    "w,v = np.linalg.eig(matrix)\n",
    "print(w)\n",
    "q = w.sort() #Arranged in ascending order\n",
    "plt.hist(w,bins = 90,color ='r')\n",
    "\n",
    "d = w[N-1] - w[0]\n",
    "step = d/N\n",
    "print(step)\n",
    "xlegend = plt.xlabel('Eigen value')\n",
    "ylegend = plt.ylabel('Density of eigen states')\n",
    "\n",
    "plt.title(f'For dimension N={N}')\n",
    "plt.show()"
   ]
  },
  {
   "cell_type": "code",
   "execution_count": 42,
   "metadata": {},
   "outputs": [
    {
     "name": "stdout",
     "output_type": "stream",
     "text": [
      "Enter the diagonal value:10\n",
      "Enter the beta value:2\n",
      "Enter the order of the matrix:2000\n",
      "[[10.  2.  0. ...  0.  0.  2.]\n",
      " [ 2. 10.  2. ...  0.  0.  0.]\n",
      " [ 0.  2. 10. ...  0.  0.  0.]\n",
      " ...\n",
      " [ 0.  0.  0. ... 10.  2.  0.]\n",
      " [ 0.  0.  0. ...  2. 10.  2.]\n",
      " [ 2.  0.  0. ...  0.  2. 10.]]\n",
      "[13.96686424 13.96845881 13.9700142  ...  6.00789309  6.0113644\n",
      "  6.07808951]\n",
      "0.003999999999999999\n"
     ]
    },
    {
     "data": {
      "image/png": "[encoded data removed]",
      "text/plain": [
       "<Figure size 432x288 with 1 Axes>"
      ]
     },
     "metadata": {
      "needs_background": "light"
     },
     "output_type": "display_data"
    }
   ],
   "source": [
    "import numpy as np\n",
    "import matplotlib.pyplot as plt\n",
    "import math\n",
    "#Creating the matrix\n",
    "A = int(input(\"Enter the diagonal value:\"))\n",
    "B = int(input(\"Enter the beta value:\"))\n",
    "N = int(input(\"Enter the order of the matrix:\")) \n",
    "matrix = np.zeros((N,N))\n",
    "#print the matrix\n",
    "for i in range (N):\n",
    "    for j in range (N):\n",
    "        if i == j:\n",
    "            matrix[i][j] = A\n",
    "        elif j == i+1 :\n",
    "            matrix[i][j] = B\n",
    "        elif j == i-1 :\n",
    "            matrix[i][j] = B\n",
    "            \n",
    "for i in range(N):\n",
    "    for j in range(N):\n",
    "        if i == N-1 and j==0:\n",
    "            matrix[i][j] = B\n",
    "        elif i == 0 and j == N-1:\n",
    "            matrix[i][j] = B\n",
    "            \n",
    "print(matrix) #Starting matrix is constructed.\n",
    "\n",
    "#finding eigenvalues\n",
    "w,v = np.linalg.eig(matrix)\n",
    "print(w)\n",
    "q = w.sort() #Arranged in ascending order\n",
    "\n",
    "wid=math.sqrt(N)\n",
    "div=int(wid)\n",
    "\n",
    "\n",
    "plt.hist(w,bins= div,color ='r')\n",
    "\n",
    "d = w[N-1] - w[0]\n",
    "step = d/N\n",
    "print(step)\n",
    "xlegend = plt.xlabel('Eigen value')\n",
    "ylegend = plt.ylabel('Density of eigen states')\n",
    "\n",
    "plt.title(f'For dimension N={N}')\n",
    "plt.show()"
   ]
  },
  {
   "cell_type": "code",
   "execution_count": 51,
   "metadata": {},
   "outputs": [
    {
     "name": "stdout",
     "output_type": "stream",
     "text": [
      "Enter the E1 value:10\n",
      "Enter the E2 value:8\n",
      "Enter the beta value:4\n",
      "Enter the order of the matrix:2500\n",
      "[[ 8.  4.  0. ...  0.  0.  4.]\n",
      " [ 4. 10.  4. ...  0.  0.  0.]\n",
      " [ 0.  4.  8. ...  0.  0.  0.]\n",
      " ...\n",
      " [ 0.  0.  0. ... 10.  4.  0.]\n",
      " [ 0.  0.  0. ...  4.  8.  4.]\n",
      " [ 4.  0.  0. ...  0.  4. 10.]]\n",
      "[16.93266009 16.93622508 16.93974077 ...  2.70500601  0.95468399\n",
      "  1.43767406]\n",
      "0.006449806198638845\n"
     ]
    },
    {
     "data": {
      "image/png": "[encoded data removed]",
      "text/plain": [
       "<Figure size 432x288 with 1 Axes>"
      ]
     },
     "metadata": {
      "needs_background": "light"
     },
     "output_type": "display_data"
    }
   ],
   "source": [
    "import numpy as np\n",
    "import matplotlib.pyplot as plt\n",
    "import math\n",
    "#Creating the matrix\n",
    "A1 = int(input(\"Enter the E1 value:\"))\n",
    "A2 = int(input(\"Enter the E2 value:\"))\n",
    "B = int(input(\"Enter the beta value:\"))\n",
    "N = int(input(\"Enter the order of the matrix:\")) \n",
    "\n",
    "matrix = np.zeros((N,N))\n",
    "for i in range (N):\n",
    "    for j in range (N):\n",
    "        if i == j:\n",
    "            if i % 2 == 0:\n",
    "                matrix[i][j] = A2\n",
    "            else:\n",
    "                matrix[i][j] = A1\n",
    "        elif j == i+1 :\n",
    "            matrix[i][j] = B\n",
    "        elif j == i-1 :\n",
    "            matrix[i][j] = B\n",
    "            \n",
    "for i in range(N):\n",
    "    for j in range(N):\n",
    "        if i == N-1 and j==0:\n",
    "            matrix[i][j] = B\n",
    "        elif i == 0 and j == N-1:\n",
    "            matrix[i][j] = B\n",
    "#printing the matrix\n",
    "print(matrix)\n",
    "\n",
    "#finding eigen values\n",
    "w,v = np.linalg.eig(matrix)\n",
    "print(w)\n",
    "q = w.sort() #Arranged in ascending order\n",
    "plt.hist(w,bins = 90,color ='r')\n",
    "\n",
    "d = w[N-1] - w[0]\n",
    "step = d/N\n",
    "print(step)\n",
    "xlegend = plt.xlabel('Eigen value')\n",
    "ylegend = plt.ylabel('Density of eigen states')\n",
    "\n",
    "plt.title(f'For dimension N={N}')\n",
    "plt.show()"
   ]
  },
  {
   "cell_type": "code",
   "execution_count": null,
   "metadata": {},
   "outputs": [],
   "source": []
  }
 ],
 "metadata": {
  "kernelspec": {
   "display_name": "Python 3",
   "language": "python",
   "name": "python3"
  },
  "language_info": {
   "codemirror_mode": {
    "name": "ipython",
    "version": 3
   },
   "file_extension": ".py",
   "mimetype": "text/x-python",
   "name": "python",
   "nbconvert_exporter": "python",
   "pygments_lexer": "ipython3",
   "version": "3.8.5"
  }
 },
 "nbformat": 4,
 "nbformat_minor": 4
}
